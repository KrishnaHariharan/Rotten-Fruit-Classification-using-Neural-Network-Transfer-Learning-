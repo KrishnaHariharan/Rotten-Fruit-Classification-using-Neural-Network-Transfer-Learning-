{
 "cells": [
  {
   "cell_type": "code",
   "execution_count": 5,
   "id": "fourth-developer",
   "metadata": {},
   "outputs": [],
   "source": [
    "import numpy as np\n",
    "import pandas as pd\n",
    "import matplotlib.pyplot as plt\n",
    "import os\n",
    "import sys\n",
    "from keras.layers import *\n",
    "from keras.optimizers import *\n",
    "from keras.applications import *\n",
    "from keras.models import Model\n",
    "from keras.preprocessing.image import ImageDataGenerator\n",
    "from keras.callbacks import ModelCheckpoint, EarlyStopping\n",
    "from keras import backend as k\n",
    "import keras"
   ]
  },
  {
   "cell_type": "markdown",
   "id": "twelve-canadian",
   "metadata": {},
   "source": [
    "All the necessary libraries are imported. Numpy is for numerical manipulations. Pandas are for dealing with csv files. MatplotLib is visualizing tool. keras is used here which is open source library for neural networks in python. ImageDataGenerator is used for Data augumentation. Optimizers will help us to find the global minima. Earlystopping is used to incase if we find that over a specific number of epoch the accuracy is not improving then the training could be stopped.\n"
   ]
  },
  {
   "cell_type": "code",
   "execution_count": 6,
   "id": "authentic-offset",
   "metadata": {},
   "outputs": [],
   "source": [
    "from tensorflow import keras\n",
    "base_model=keras.applications.VGG16(weights='imagenet',input_shape=(224,224,3),include_top=False)"
   ]
  },
  {
   "cell_type": "markdown",
   "id": "according-dietary",
   "metadata": {},
   "source": [
    "VGG16 is the convolution neural network proposed in 2014. It is trained using imagenet dataset which roughly has 15million high resolution images belonging to 22,000 categories. We are doing Transfer Learning here. Using this model which was already trained with millions of data will help to make prediction accurately by not only depending on the dataset we have."
   ]
  },
  {
   "cell_type": "markdown",
   "id": "small-jesus",
   "metadata": {},
   "source": [
    "We are giving include_top=False because VGG16 is a sequence of convolution layers with a dense layer at the end. by giving it as false we mean that we are dropping the dense layer alone. Instead of the dense layer which is already present we will model a full connected layer which will will connected to VGG16."
   ]
  },
  {
   "cell_type": "code",
   "execution_count": 7,
   "id": "located-insight",
   "metadata": {},
   "outputs": [
    {
     "name": "stdout",
     "output_type": "stream",
     "text": [
      "Model: \"vgg16\"\n",
      "_________________________________________________________________\n",
      "Layer (type)                 Output Shape              Param #   \n",
      "=================================================================\n",
      "input_1 (InputLayer)         [(None, 224, 224, 3)]     0         \n",
      "_________________________________________________________________\n",
      "block1_conv1 (Conv2D)        (None, 224, 224, 64)      1792      \n",
      "_________________________________________________________________\n",
      "block1_conv2 (Conv2D)        (None, 224, 224, 64)      36928     \n",
      "_________________________________________________________________\n",
      "block1_pool (MaxPooling2D)   (None, 112, 112, 64)      0         \n",
      "_________________________________________________________________\n",
      "block2_conv1 (Conv2D)        (None, 112, 112, 128)     73856     \n",
      "_________________________________________________________________\n",
      "block2_conv2 (Conv2D)        (None, 112, 112, 128)     147584    \n",
      "_________________________________________________________________\n",
      "block2_pool (MaxPooling2D)   (None, 56, 56, 128)       0         \n",
      "_________________________________________________________________\n",
      "block3_conv1 (Conv2D)        (None, 56, 56, 256)       295168    \n",
      "_________________________________________________________________\n",
      "block3_conv2 (Conv2D)        (None, 56, 56, 256)       590080    \n",
      "_________________________________________________________________\n",
      "block3_conv3 (Conv2D)        (None, 56, 56, 256)       590080    \n",
      "_________________________________________________________________\n",
      "block3_pool (MaxPooling2D)   (None, 28, 28, 256)       0         \n",
      "_________________________________________________________________\n",
      "block4_conv1 (Conv2D)        (None, 28, 28, 512)       1180160   \n",
      "_________________________________________________________________\n",
      "block4_conv2 (Conv2D)        (None, 28, 28, 512)       2359808   \n",
      "_________________________________________________________________\n",
      "block4_conv3 (Conv2D)        (None, 28, 28, 512)       2359808   \n",
      "_________________________________________________________________\n",
      "block4_pool (MaxPooling2D)   (None, 14, 14, 512)       0         \n",
      "_________________________________________________________________\n",
      "block5_conv1 (Conv2D)        (None, 14, 14, 512)       2359808   \n",
      "_________________________________________________________________\n",
      "block5_conv2 (Conv2D)        (None, 14, 14, 512)       2359808   \n",
      "_________________________________________________________________\n",
      "block5_conv3 (Conv2D)        (None, 14, 14, 512)       2359808   \n",
      "_________________________________________________________________\n",
      "block5_pool (MaxPooling2D)   (None, 7, 7, 512)         0         \n",
      "=================================================================\n",
      "Total params: 14,714,688\n",
      "Trainable params: 14,714,688\n",
      "Non-trainable params: 0\n",
      "_________________________________________________________________\n"
     ]
    }
   ],
   "source": [
    "base_model.summary()"
   ]
  },
  {
   "cell_type": "code",
   "execution_count": 8,
   "id": "linear-replacement",
   "metadata": {},
   "outputs": [],
   "source": [
    "base_model.trainable=False"
   ]
  },
  {
   "cell_type": "markdown",
   "id": "interesting-cyprus",
   "metadata": {},
   "source": [
    "Here we are freezing the base model which means that we are fixing the weights which are currently used and we cannot modify the weights of the base model any further."
   ]
  },
  {
   "cell_type": "code",
   "execution_count": 9,
   "id": "enclosed-ocean",
   "metadata": {},
   "outputs": [],
   "source": [
    "inputs=Input(shape=(224,224,3)) #creating a input layer of size 224,224,4\n",
    "x=base_model(inputs,training=False)\n",
    "x=Flatten()(x) #Adding a Flatten Layer\n",
    "x=Dense(256,activation='relu')(x) #adding a hidden layer with 256 neuron\n",
    "x=Dropout(.5)(x) #adding a droput layer\n",
    "outputs=Dense(6,activation='softmax')(x) #creating the output layer\n",
    "model=Model(inputs,outputs) #creating the model\n",
    "\n"
   ]
  },
  {
   "cell_type": "markdown",
   "id": "ordered-cricket",
   "metadata": {},
   "source": [
    "Here we are creating our own model on top of the base model. Input layer is of size 224,224,3 where 3 reprsents the RGB. A flatten layer is added which basically converts the 3d array of images into a 1D vector. A hidden layer with 256 neurons are created with relu as the activation function. \n",
    "\n",
    "With Deep Neural Network there are more chances that over fitting might occur considering the very minimal image data that we are going to train. Hence to avoid overfitting droput layer is added which randomly avoid certain neurons output so that balance is maintained. The output layer has 6 neurons which basically 6 classifications of our project - Rotten Banana, Orange, Apple & Fresh Banana, Orange, Apple. A model is created by linking the input and the output."
   ]
  },
  {
   "cell_type": "code",
   "execution_count": 10,
   "id": "voluntary-memphis",
   "metadata": {},
   "outputs": [
    {
     "name": "stdout",
     "output_type": "stream",
     "text": [
      "Model: \"functional_1\"\n",
      "_________________________________________________________________\n",
      "Layer (type)                 Output Shape              Param #   \n",
      "=================================================================\n",
      "input_2 (InputLayer)         [(None, 224, 224, 3)]     0         \n",
      "_________________________________________________________________\n",
      "vgg16 (Functional)           (None, 7, 7, 512)         14714688  \n",
      "_________________________________________________________________\n",
      "flatten (Flatten)            (None, 25088)             0         \n",
      "_________________________________________________________________\n",
      "dense (Dense)                (None, 256)               6422784   \n",
      "_________________________________________________________________\n",
      "dropout (Dropout)            (None, 256)               0         \n",
      "_________________________________________________________________\n",
      "dense_1 (Dense)              (None, 6)                 1542      \n",
      "=================================================================\n",
      "Total params: 21,139,014\n",
      "Trainable params: 6,424,326\n",
      "Non-trainable params: 14,714,688\n",
      "_________________________________________________________________\n"
     ]
    }
   ],
   "source": [
    "model.summary()"
   ]
  },
  {
   "cell_type": "code",
   "execution_count": 11,
   "id": "italian-temperature",
   "metadata": {},
   "outputs": [],
   "source": [
    "model.compile(loss='categorical_crossentropy',metrics=[\"accuracy\"],optimizer='nadam') #compiling the model"
   ]
  },
  {
   "cell_type": "code",
   "execution_count": 12,
   "id": "talented-james",
   "metadata": {},
   "outputs": [],
   "source": [
    "from tensorflow.keras.preprocessing.image import ImageDataGenerator\n",
    "\n",
    "transformation_ratio = 0.05\n",
    "\n",
    "datagen = ImageDataGenerator(rescale=1. / 255,\n",
    "                             validation_split = 0.2,\n",
    "                             rotation_range=transformation_ratio,\n",
    "                             shear_range=transformation_ratio,\n",
    "                             zoom_range=transformation_ratio,\n",
    "                             cval=transformation_ratio,\n",
    "                             horizontal_flip=True,\n",
    "                             vertical_flip=True)"
   ]
  },
  {
   "cell_type": "code",
   "execution_count": 13,
   "id": "intellectual-tenant",
   "metadata": {},
   "outputs": [
    {
     "name": "stdout",
     "output_type": "stream",
     "text": [
      "Found 8723 images belonging to 6 classes.\n",
      "Found 2178 images belonging to 6 classes.\n",
      "Found 2698 images belonging to 6 classes.\n"
     ]
    }
   ],
   "source": [
    "train_it = datagen.flow_from_directory(\"C:/Users/Hariharan/Desktop/VIT/Sem2/NN/J Comp/RottenFruitClassification/dataset/train\", \n",
    "                                       target_size=(224,224), \n",
    "                                       color_mode='rgb', \n",
    "                                       class_mode=\"categorical\",\n",
    "                                       batch_size=12,\n",
    "                                       subset = \"training\")\n",
    "\n",
    "# Validation Data\n",
    "val_it = datagen.flow_from_directory(\"C:/Users/Hariharan/Desktop/VIT/Sem2/NN/J Comp/RottenFruitClassification/dataset/train\",\n",
    "                                     target_size=(224,224),\n",
    "                                     color_mode='rgb',\n",
    "                                     class_mode=\"categorical\",\n",
    "                                     batch_size=12,\n",
    "                                     subset='validation')\n",
    "\n",
    "# load and iterate test dataset\n",
    "test_it = datagen.flow_from_directory(\"C:/Users/Hariharan/Desktop/VIT/Sem2/NN/J Comp/RottenFruitClassification/dataset/test\", \n",
    "                                      target_size=(224,224), \n",
    "                                      color_mode='rgb', \n",
    "                                      class_mode=\"categorical\")"
   ]
  },
  {
   "cell_type": "code",
   "execution_count": 14,
   "id": "renewable-values",
   "metadata": {
    "scrolled": true
   },
   "outputs": [
    {
     "name": "stdout",
     "output_type": "stream",
     "text": [
      "WARNING:tensorflow:From <ipython-input-14-d45733edde81>:1: Model.fit_generator (from tensorflow.python.keras.engine.training) is deprecated and will be removed in a future version.\n",
      "Instructions for updating:\n",
      "Please use Model.fit, which supports generators.\n",
      "Epoch 1/16\n",
      "727/726 [==============================] - 3096s 4s/step - loss: 0.7944 - accuracy: 0.7176 - val_loss: 0.2797 - val_accuracy: 0.8902\n",
      "Epoch 2/16\n",
      "727/726 [==============================] - 4964s 7s/step - loss: 0.4342 - accuracy: 0.8308 - val_loss: 0.1308 - val_accuracy: 0.9569\n",
      "Epoch 3/16\n",
      "727/726 [==============================] - 4170s 6s/step - loss: 0.3764 - accuracy: 0.8537 - val_loss: 0.1833 - val_accuracy: 0.9343\n",
      "Epoch 4/16\n",
      "727/726 [==============================] - 3593s 5s/step - loss: 0.3355 - accuracy: 0.8719 - val_loss: 0.1184 - val_accuracy: 0.9578\n",
      "Epoch 5/16\n",
      "727/726 [==============================] - 3553s 5s/step - loss: 0.3148 - accuracy: 0.8749 - val_loss: 0.0783 - val_accuracy: 0.9745\n",
      "Epoch 6/16\n",
      "727/726 [==============================] - 3242s 4s/step - loss: 0.2951 - accuracy: 0.8848 - val_loss: 0.0769 - val_accuracy: 0.9794\n",
      "Epoch 7/16\n",
      "727/726 [==============================] - 2979s 4s/step - loss: 0.2663 - accuracy: 0.8906 - val_loss: 0.0759 - val_accuracy: 0.9667\n",
      "Epoch 8/16\n",
      "727/726 [==============================] - 3480s 5s/step - loss: 0.2715 - accuracy: 0.8958 - val_loss: 0.0627 - val_accuracy: 0.9814\n",
      "Epoch 9/16\n",
      "727/726 [==============================] - 3219s 4s/step - loss: 0.2468 - accuracy: 0.9001 - val_loss: 0.0482 - val_accuracy: 0.9843\n",
      "Epoch 10/16\n",
      "727/726 [==============================] - 2996s 4s/step - loss: 0.2379 - accuracy: 0.9061 - val_loss: 0.0659 - val_accuracy: 0.9765\n",
      "Epoch 11/16\n",
      "727/726 [==============================] - 3120s 4s/step - loss: 0.2425 - accuracy: 0.8988 - val_loss: 0.0557 - val_accuracy: 0.9784\n",
      "Epoch 12/16\n",
      "727/726 [==============================] - 3974s 5s/step - loss: 0.2268 - accuracy: 0.9118 - val_loss: 0.0390 - val_accuracy: 0.9873\n",
      "Epoch 13/16\n",
      "727/726 [==============================] - 4010s 6s/step - loss: 0.2245 - accuracy: 0.9116 - val_loss: 0.0559 - val_accuracy: 0.9814\n",
      "Epoch 14/16\n",
      "727/726 [==============================] - 3673s 5s/step - loss: 0.2214 - accuracy: 0.9106 - val_loss: 0.0542 - val_accuracy: 0.9814\n",
      "Epoch 15/16\n",
      "727/726 [==============================] - 3019s 4s/step - loss: 0.2078 - accuracy: 0.9189 - val_loss: 0.0692 - val_accuracy: 0.9784\n",
      "Epoch 16/16\n",
      "727/726 [==============================] - 3048s 4s/step - loss: 0.1983 - accuracy: 0.9214 - val_loss: 0.0448 - val_accuracy: 0.9814\n"
     ]
    }
   ],
   "source": [
    "history = model.fit_generator(generator = train_it,\n",
    "                              steps_per_epoch=train_it.samples/train_it.batch_size,\n",
    "                              epochs=16,\n",
    "                              validation_data=val_it,\n",
    "                              validation_steps=test_it.samples/test_it.batch_size,\n",
    ")\n",
    "\n"
   ]
  },
  {
   "cell_type": "code",
   "execution_count": 15,
   "id": "capital-peace",
   "metadata": {},
   "outputs": [
    {
     "data": {
      "text/plain": [
       "<matplotlib.legend.Legend at 0x1f143aa63d0>"
      ]
     },
     "execution_count": 15,
     "metadata": {},
     "output_type": "execute_result"
    },
    {
     "data": {
      "image/png": "[encoded data removed]",
      "text/plain": [
       "<Figure size 432x288 with 1 Axes>"
      ]
     },
     "metadata": {
      "needs_background": "light"
     },
     "output_type": "display_data"
    }
   ],
   "source": [
    "#Evaluation\n",
    "plt.plot(history.history['accuracy'])\n",
    "plt.plot(history.history['val_accuracy'])\n",
    "plt.title('Model Accuracy')\n",
    "plt.xlabel('Epochs')\n",
    "plt.ylabel('Accuracy')\n",
    "plt.legend(['Acc','Val'], loc = 'upper left')"
   ]
  },
  {
   "cell_type": "code",
   "execution_count": 16,
   "id": "intensive-witness",
   "metadata": {},
   "outputs": [
    {
     "data": {
      "text/plain": [
       "<matplotlib.legend.Legend at 0x1f143b36e80>"
      ]
     },
     "execution_count": 16,
     "metadata": {},
     "output_type": "execute_result"
    },
    {
     "data": {
      "image/png": "[encoded data removed]",
      "text/plain": [
       "<Figure size 432x288 with 1 Axes>"
      ]
     },
     "metadata": {
      "needs_background": "light"
     },
     "output_type": "display_data"
    }
   ],
   "source": [
    "plt.plot(history.history['loss'])\n",
    "plt.plot(history.history['val_loss'])\n",
    "plt.title('Model Loss')\n",
    "plt.xlabel('Epochs')\n",
    "plt.ylabel('Loss')\n",
    "plt.legend(['loss','Val'], loc = 'upper left')"
   ]
  },
  {
   "cell_type": "code",
   "execution_count": 22,
   "id": "bigger-armstrong",
   "metadata": {},
   "outputs": [
    {
     "name": "stdout",
     "output_type": "stream",
     "text": [
      "[[0. 0. 0. 0. 0. 1.]]\n"
     ]
    }
   ],
   "source": [
    "from keras.preprocessing.image import load_img\n",
    "predict_it = load_img('pre.jpg', target_size=(224,224))\n",
    "\n",
    "from keras.preprocessing.image import img_to_array\n",
    "# convert the image pixels to a numpy array\n",
    "image = img_to_array(predict_it)\n",
    "image = image.reshape((1, image.shape[0], image.shape[1], image.shape[2]))\n",
    "\n",
    "from keras.applications.vgg16 import preprocess_input\n",
    "# prepare the image for the VGG model\n",
    "image = preprocess_input(image)\n",
    "\n",
    "# predict the probability across all output classes\n",
    "yhat = model.predict(image)\n",
    "\n",
    "print (yhat)\n"
   ]
  },
  {
   "cell_type": "markdown",
   "id": "sunset-demonstration",
   "metadata": {},
   "source": [
    "Here we have six classifications in the order freshapples, freshbanana, freshoranges, rottenapples, rottenbanana, rottenoranges. A rotten orange is taken from the internet which is given as an input for prediction. Here the predicted output has last value as one which means it has predicted that the given image is rottenoranges. It shows that the probability of the given image to be a rotten orange is 1 and the remaining probability to be 0."
   ]
  },
  {
   "cell_type": "code",
   "execution_count": 23,
   "id": "nominated-deployment",
   "metadata": {},
   "outputs": [],
   "source": [
    "model.save('./fruit_classification.h5')"
   ]
  },
  {
   "cell_type": "code",
   "execution_count": null,
   "id": "confidential-wagner",
   "metadata": {},
   "outputs": [],
   "source": []
  }
 ],
 "metadata": {
  "kernelspec": {
   "display_name": "Python 3",
   "language": "python",
   "name": "python3"
  },
  "language_info": {
   "codemirror_mode": {
    "name": "ipython",
    "version": 3
   },
   "file_extension": ".py",
   "mimetype": "text/x-python",
   "name": "python",
   "nbconvert_exporter": "python",
   "pygments_lexer": "ipython3",
   "version": "3.8.5"
  }
 },
 "nbformat": 4,
 "nbformat_minor": 5
}
